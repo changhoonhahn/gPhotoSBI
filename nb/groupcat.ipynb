{
 "cells": [
  {
   "cell_type": "code",
   "execution_count": 1,
   "id": "bcd5b117",
   "metadata": {},
   "outputs": [],
   "source": [
    "import os, h5py\n",
    "import numpy as np \n",
    "from astropy import table as aTable"
   ]
  },
  {
   "cell_type": "code",
   "execution_count": 2,
   "id": "7b3afe1a",
   "metadata": {},
   "outputs": [],
   "source": [
    "dat_dir = '/Users/chahah/data/frb_halos/groupcat/idark.ipmu.jp/hsc405/GroupCats/groups_091/'"
   ]
  },
  {
   "cell_type": "code",
   "execution_count": 3,
   "id": "be498143",
   "metadata": {},
   "outputs": [],
   "source": [
    "pos_sub, pos_grp = [], [] \n",
    "subfind_id = [] \n",
    "for i in range(680): \n",
    "    _tab = h5py.File(os.path.join(dat_dir, 'fof_subhalo_tab_091.%i.hdf5' % i))\n",
    "    sub = _tab['Subhalo']\n",
    "    if len(sub.keys()) > 0: \n",
    "        pos_sub.append(sub['SubhaloPos'][...])\n",
    "    \n",
    "    grp = _tab['Group']\n",
    "    if len(grp.keys()) > 0: \n",
    "        mass = grp['Group_M_Crit200'][...]\n",
    "        \n",
    "        subfind_id.append(grp['GroupFirstSub'][...][mass > 0])\n",
    "        pos_grp.append(grp['GroupPos'][...][mass > 0])\n",
    "        \n",
    "subfind_id = np.concatenate(subfind_id)\n",
    "pos_sub = np.concatenate(pos_sub)\n",
    "pos_grp = np.concatenate(pos_grp)"
   ]
  },
  {
   "cell_type": "code",
   "execution_count": 4,
   "id": "68ee4276",
   "metadata": {},
   "outputs": [
    {
     "data": {
      "text/plain": [
       "array([[0., 0., 0.],\n",
       "       [0., 0., 0.],\n",
       "       [0., 0., 0.],\n",
       "       ...,\n",
       "       [0., 0., 0.],\n",
       "       [0., 0., 0.],\n",
       "       [0., 0., 0.]], dtype=float32)"
      ]
     },
     "execution_count": 4,
     "metadata": {},
     "output_type": "execute_result"
    }
   ],
   "source": [
    "pos_sub[subfind_id] - pos_grp"
   ]
  },
  {
   "cell_type": "code",
   "execution_count": 5,
   "id": "9e006f77",
   "metadata": {},
   "outputs": [],
   "source": [
    "np.save('/Users/chahah/data/frb_halos/centrals.subfind_id.npy', subfind_id)"
   ]
  },
  {
   "cell_type": "code",
   "execution_count": null,
   "id": "8fc9789a",
   "metadata": {},
   "outputs": [],
   "source": []
  }
 ],
 "metadata": {
  "kernelspec": {
   "display_name": "uhod",
   "language": "python",
   "name": "uhod"
  },
  "language_info": {
   "codemirror_mode": {
    "name": "ipython",
    "version": 3
   },
   "file_extension": ".py",
   "mimetype": "text/x-python",
   "name": "python",
   "nbconvert_exporter": "python",
   "pygments_lexer": "ipython3",
   "version": "3.7.11"
  }
 },
 "nbformat": 4,
 "nbformat_minor": 5
}
