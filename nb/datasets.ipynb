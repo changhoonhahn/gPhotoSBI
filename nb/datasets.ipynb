{
 "cells": [
  {
   "cell_type": "markdown",
   "metadata": {},
   "source": [
    "# construct Training/Testing datasets of central subhalos\n",
    "Use subhalos and central/satellite information compiled in `compile_subhalos.ipynb` and `groupcat.ipynb` to compile training and testing datasets for the NPE"
   ]
  },
  {
   "cell_type": "code",
   "execution_count": 1,
   "metadata": {},
   "outputs": [],
   "source": [
    "import os, h5py\n",
    "import numpy as np\n",
    "from astropy import table as aTable"
   ]
  },
  {
   "cell_type": "markdown",
   "metadata": {},
   "source": [
    "read in all compiled subhalo and only keep those at `snapshot = 91`, which corresponds to $z=0.1$"
   ]
  },
  {
   "cell_type": "code",
   "execution_count": 2,
   "metadata": {},
   "outputs": [
    {
     "name": "stdout",
     "output_type": "stream",
     "text": [
      "12179 subhalos\n"
     ]
    }
   ],
   "source": [
    "subhalo = aTable.Table.read('/Users/chahah/data/frb_halos/subhalos_morph.csv')\n",
    "snap91  = (subhalo['snapshot'] == 91)\n",
    "subhalo = subhalo[snap91]\n",
    "print('%i subhalos' % len(subhalo))"
   ]
  },
  {
   "cell_type": "markdown",
   "metadata": {},
   "source": [
    "lets only keep central galaxies based on central/satellite classification from `groupcat.ipynb`"
   ]
  },
  {
   "cell_type": "code",
   "execution_count": 3,
   "metadata": {},
   "outputs": [
    {
     "name": "stdout",
     "output_type": "stream",
     "text": [
      "0.61 of subhalos are centrals\n",
      "7468 subhalos\n"
     ]
    }
   ],
   "source": [
    "central_id = np.load('/Users/chahah/data/frb_halos/centrals.subfind_id.snapshot91.npy')\n",
    "is_central = np.array([_id in central_id for _id in subhalo['subhalo_id']])\n",
    "subhalo = subhalo[is_central]\n",
    "print('%.2f of subhalos are centrals' % np.mean(is_central))\n",
    "print('%i subhalos' % len(subhalo))"
   ]
  },
  {
   "cell_type": "code",
   "execution_count": 4,
   "metadata": {},
   "outputs": [
    {
     "data": {
      "text/html": [
       "<div><i>Table length=5</i>\n",
       "<table id=\"table140185730525584\" class=\"table-striped table-bordered table-condensed\">\n",
       "<thead><tr><th>g_Sersic_Reff</th><th>g_Sersic_mag</th><th>g_CAS_C</th><th>g_CAS_A</th><th>snapshot</th><th>subhalo_id</th><th>version</th><th>i_Sersic_Reff</th><th>i_Sersic_mag</th><th>i_CAS_C</th><th>i_CAS_A</th><th>r_Sersic_Reff</th><th>r_Sersic_mag</th><th>r_CAS_C</th><th>r_CAS_A</th><th>y_Sersic_Reff</th><th>y_Sersic_mag</th><th>y_CAS_C</th><th>y_CAS_A</th><th>z_Sersic_Reff</th><th>z_Sersic_mag</th><th>z_CAS_C</th><th>z_CAS_A</th><th>SubhaloMassType_stars</th><th>SubhaloMassType_dm</th></tr></thead>\n",
       "<thead><tr><th>float64</th><th>float64</th><th>float64</th><th>float64</th><th>int64</th><th>int64</th><th>str2</th><th>float64</th><th>float64</th><th>float64</th><th>float64</th><th>float64</th><th>float64</th><th>float64</th><th>float64</th><th>float64</th><th>float64</th><th>float64</th><th>float64</th><th>float64</th><th>float64</th><th>float64</th><th>float64</th><th>float64</th><th>float64</th></tr></thead>\n",
       "<tr><td>16.5282</td><td>13.4244</td><td>5.23794</td><td>0.0904381</td><td>91</td><td>0</td><td>v2</td><td>14.4653</td><td>12.0606</td><td>5.30594</td><td>0.0861324</td><td>13.0986</td><td>12.6109</td><td>5.41252</td><td>0.0893994</td><td>13.5889</td><td>11.6764</td><td>5.30594</td><td>0.0698951</td><td>14.0126</td><td>11.7837</td><td>5.30594</td><td>0.0778021</td><td>12.7342</td><td>14.2415</td></tr>\n",
       "<tr><td>17.0677</td><td>13.4204</td><td>5.43369</td><td>0.128438</td><td>91</td><td>0</td><td>v3</td><td>11.8979</td><td>12.1546</td><td>5.59752</td><td>0.151465</td><td>19.8217</td><td>12.3975</td><td>5.43369</td><td>0.135967</td><td>11.0848</td><td>11.7779</td><td>5.49236</td><td>0.135583</td><td>13.2725</td><td>11.8089</td><td>5.59752</td><td>0.1419</td><td>12.7342</td><td>14.2415</td></tr>\n",
       "<tr><td>17.1306</td><td>13.4667</td><td>5.69275</td><td>0.103165</td><td>91</td><td>0</td><td>v1</td><td>16.8541</td><td>12.0389</td><td>5.69275</td><td>0.129235</td><td>16.8944</td><td>12.5384</td><td>5.5885</td><td>0.106361</td><td>17.1656</td><td>11.6107</td><td>5.64329</td><td>0.0945187</td><td>16.6774</td><td>11.7437</td><td>5.74775</td><td>0.119082</td><td>12.7342</td><td>14.2415</td></tr>\n",
       "<tr><td>17.353</td><td>13.4715</td><td>5.49236</td><td>0.0655124</td><td>91</td><td>0</td><td>v0</td><td>15.1905</td><td>12.1003</td><td>5.66127</td><td>0.0809164</td><td>17.953</td><td>12.5103</td><td>5.32853</td><td>0.0727035</td><td>18.0359</td><td>11.6035</td><td>5.38695</td><td>0.0659247</td><td>14.8276</td><td>11.8243</td><td>5.66127</td><td>0.0771571</td><td>12.7342</td><td>14.2415</td></tr>\n",
       "<tr><td>8.35147</td><td>14.3709</td><td>3.76913</td><td>0.156349</td><td>91</td><td>70250</td><td>v0</td><td>4.53571</td><td>13.381</td><td>4.1056</td><td>0.119823</td><td>5.2346</td><td>13.7961</td><td>4.22041</td><td>0.132992</td><td>4.3566</td><td>12.9982</td><td>3.98999</td><td>0.0989417</td><td>4.71578</td><td>13.0893</td><td>3.98999</td><td>0.10153</td><td>12.1915</td><td>13.8559</td></tr>\n",
       "</table></div>"
      ],
      "text/plain": [
       "<Table length=5>\n",
       "g_Sersic_Reff g_Sersic_mag g_CAS_C  g_CAS_A  snapshot subhalo_id version i_Sersic_Reff i_Sersic_mag i_CAS_C  i_CAS_A  r_Sersic_Reff r_Sersic_mag r_CAS_C  r_CAS_A  y_Sersic_Reff y_Sersic_mag y_CAS_C  y_CAS_A  z_Sersic_Reff z_Sersic_mag z_CAS_C  z_CAS_A  SubhaloMassType_stars SubhaloMassType_dm\n",
       "   float64      float64    float64  float64   int64     int64      str2     float64      float64    float64  float64     float64      float64    float64  float64     float64      float64    float64  float64     float64      float64    float64  float64         float64             float64      \n",
       "------------- ------------ ------- --------- -------- ---------- ------- ------------- ------------ ------- --------- ------------- ------------ ------- --------- ------------- ------------ ------- --------- ------------- ------------ ------- --------- --------------------- ------------------\n",
       "      16.5282      13.4244 5.23794 0.0904381       91          0      v2       14.4653      12.0606 5.30594 0.0861324       13.0986      12.6109 5.41252 0.0893994       13.5889      11.6764 5.30594 0.0698951       14.0126      11.7837 5.30594 0.0778021               12.7342            14.2415\n",
       "      17.0677      13.4204 5.43369  0.128438       91          0      v3       11.8979      12.1546 5.59752  0.151465       19.8217      12.3975 5.43369  0.135967       11.0848      11.7779 5.49236  0.135583       13.2725      11.8089 5.59752    0.1419               12.7342            14.2415\n",
       "      17.1306      13.4667 5.69275  0.103165       91          0      v1       16.8541      12.0389 5.69275  0.129235       16.8944      12.5384  5.5885  0.106361       17.1656      11.6107 5.64329 0.0945187       16.6774      11.7437 5.74775  0.119082               12.7342            14.2415\n",
       "       17.353      13.4715 5.49236 0.0655124       91          0      v0       15.1905      12.1003 5.66127 0.0809164        17.953      12.5103 5.32853 0.0727035       18.0359      11.6035 5.38695 0.0659247       14.8276      11.8243 5.66127 0.0771571               12.7342            14.2415\n",
       "      8.35147      14.3709 3.76913  0.156349       91      70250      v0       4.53571       13.381  4.1056  0.119823        5.2346      13.7961 4.22041  0.132992        4.3566      12.9982 3.98999 0.0989417       4.71578      13.0893 3.98999   0.10153               12.1915            13.8559"
      ]
     },
     "execution_count": 4,
     "metadata": {},
     "output_type": "execute_result"
    }
   ],
   "source": [
    "subhalo[:5]"
   ]
  },
  {
   "cell_type": "markdown",
   "metadata": {},
   "source": [
    "## select test subhalos\n",
    "We will select 125 subhalos based on `subhalo_id`. Since there are 4 angles per subhalo, this will provide a test set of 500. \n",
    "\n",
    "We'll also stick with subhalos with $\\log M_* > 9.5$ to mitigate complications with the stellar mass lower bound."
   ]
  },
  {
   "cell_type": "code",
   "execution_count": null,
   "metadata": {},
   "outputs": [],
   "source": [
    "# select 125 test subhalos with logM*>9.5 as our test sample\n",
    "# the rest are training set\n",
    "uid = np.random.choice(np.unique(subhalo['subhalo_id'][subhalo['SubhaloMassType_stars'] > 9.5]), replace=False, size=125)\n",
    "\n",
    "i_test = np.zeros(len(subhalo)).astype(bool)\n",
    "for _uid in uid:\n",
    "    i_test[subhalo['subhalo_id'] == _uid] = True\n",
    "\n",
    "test_subhalos = subhalo[i_test]\n",
    "train_subhalos = subhalo[~i_test]\n",
    "\n",
    "test_subhalos.write('subhalos.central.snapshot91.test.csv', format='csv') \n",
    "train_subhalos.write('subhalos.central.snapshot91.train.csv', format='csv') \n"
   ]
  },
  {
   "cell_type": "code",
   "execution_count": null,
   "metadata": {},
   "outputs": [],
   "source": [
    "\n",
    "# tidy up table \n",
    "cols = list(subhalo.dtype.names)\n",
    "cols.remove('snapshot')\n",
    "cols.remove('subhalo_id')\n",
    "cols.remove('version')\n",
    "cols.remove('SubhaloMassType_dm')\n",
    "\n"
   ]
  }
 ],
 "metadata": {
  "kernelspec": {
   "display_name": "uhod",
   "language": "python",
   "name": "uhod"
  },
  "language_info": {
   "codemirror_mode": {
    "name": "ipython",
    "version": 3
   },
   "file_extension": ".py",
   "mimetype": "text/x-python",
   "name": "python",
   "nbconvert_exporter": "python",
   "pygments_lexer": "ipython3",
   "version": "3.7.11"
  }
 },
 "nbformat": 4,
 "nbformat_minor": 4
}
